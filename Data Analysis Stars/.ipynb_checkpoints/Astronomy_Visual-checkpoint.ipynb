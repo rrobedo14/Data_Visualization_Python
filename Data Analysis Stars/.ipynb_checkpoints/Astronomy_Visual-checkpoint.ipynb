{
 "cells": [
  {
   "cell_type": "code",
   "execution_count": 1,
   "id": "5f87a4ad-88a5-46c6-94f8-26622fa05fe4",
   "metadata": {},
   "outputs": [],
   "source": [
    "# Library Imports #\n",
    "\n",
    "import os\n",
    "import pandas as pd\n",
    "import numpy as np\n",
    "import seaborn as sns\n",
    "import matplotlib.pyplot as plt"
   ]
  },
  {
   "cell_type": "code",
   "execution_count": 2,
   "id": "26012bb5-d511-4c6b-bc51-b744d6eae310",
   "metadata": {},
   "outputs": [
    {
     "data": {
      "text/html": [
       "<div>\n",
       "<style scoped>\n",
       "    .dataframe tbody tr th:only-of-type {\n",
       "        vertical-align: middle;\n",
       "    }\n",
       "\n",
       "    .dataframe tbody tr th {\n",
       "        vertical-align: top;\n",
       "    }\n",
       "\n",
       "    .dataframe thead th {\n",
       "        text-align: right;\n",
       "    }\n",
       "</style>\n",
       "<table border=\"1\" class=\"dataframe\">\n",
       "  <thead>\n",
       "    <tr style=\"text-align: right;\">\n",
       "      <th></th>\n",
       "      <th>Temperature (K)</th>\n",
       "      <th>Luminosity(L/Lo)</th>\n",
       "      <th>Radius(R/Ro)</th>\n",
       "      <th>Absolute magnitude(Mv)</th>\n",
       "      <th>Star type</th>\n",
       "      <th>Star color</th>\n",
       "      <th>Spectral Class</th>\n",
       "    </tr>\n",
       "  </thead>\n",
       "  <tbody>\n",
       "    <tr>\n",
       "      <th>122</th>\n",
       "      <td>3218</td>\n",
       "      <td>0.00054</td>\n",
       "      <td>0.1100</td>\n",
       "      <td>20.020</td>\n",
       "      <td>0</td>\n",
       "      <td>Red</td>\n",
       "      <td>M</td>\n",
       "    </tr>\n",
       "    <tr>\n",
       "      <th>18</th>\n",
       "      <td>3192</td>\n",
       "      <td>0.00362</td>\n",
       "      <td>0.1967</td>\n",
       "      <td>13.530</td>\n",
       "      <td>1</td>\n",
       "      <td>Red</td>\n",
       "      <td>M</td>\n",
       "    </tr>\n",
       "    <tr>\n",
       "      <th>100</th>\n",
       "      <td>33300</td>\n",
       "      <td>240000.00000</td>\n",
       "      <td>12.0000</td>\n",
       "      <td>-6.500</td>\n",
       "      <td>4</td>\n",
       "      <td>Blue</td>\n",
       "      <td>B</td>\n",
       "    </tr>\n",
       "    <tr>\n",
       "      <th>72</th>\n",
       "      <td>3304</td>\n",
       "      <td>0.00850</td>\n",
       "      <td>0.1800</td>\n",
       "      <td>13.200</td>\n",
       "      <td>1</td>\n",
       "      <td>Red</td>\n",
       "      <td>M</td>\n",
       "    </tr>\n",
       "    <tr>\n",
       "      <th>232</th>\n",
       "      <td>32489</td>\n",
       "      <td>648430.00000</td>\n",
       "      <td>1948.5000</td>\n",
       "      <td>-10.840</td>\n",
       "      <td>5</td>\n",
       "      <td>Blue</td>\n",
       "      <td>O</td>\n",
       "    </tr>\n",
       "    <tr>\n",
       "      <th>92</th>\n",
       "      <td>4077</td>\n",
       "      <td>0.08500</td>\n",
       "      <td>0.7950</td>\n",
       "      <td>6.228</td>\n",
       "      <td>3</td>\n",
       "      <td>Yellow-White</td>\n",
       "      <td>K</td>\n",
       "    </tr>\n",
       "    <tr>\n",
       "      <th>85</th>\n",
       "      <td>9675</td>\n",
       "      <td>0.00045</td>\n",
       "      <td>0.0109</td>\n",
       "      <td>13.980</td>\n",
       "      <td>2</td>\n",
       "      <td>Blue-White</td>\n",
       "      <td>A</td>\n",
       "    </tr>\n",
       "    <tr>\n",
       "      <th>45</th>\n",
       "      <td>3600</td>\n",
       "      <td>320000.00000</td>\n",
       "      <td>29.0000</td>\n",
       "      <td>-6.600</td>\n",
       "      <td>4</td>\n",
       "      <td>Red</td>\n",
       "      <td>M</td>\n",
       "    </tr>\n",
       "    <tr>\n",
       "      <th>126</th>\n",
       "      <td>2935</td>\n",
       "      <td>0.00087</td>\n",
       "      <td>0.0932</td>\n",
       "      <td>16.880</td>\n",
       "      <td>0</td>\n",
       "      <td>Red</td>\n",
       "      <td>M</td>\n",
       "    </tr>\n",
       "    <tr>\n",
       "      <th>114</th>\n",
       "      <td>3610</td>\n",
       "      <td>132000.00000</td>\n",
       "      <td>1522.0000</td>\n",
       "      <td>-10.860</td>\n",
       "      <td>5</td>\n",
       "      <td>Red</td>\n",
       "      <td>M</td>\n",
       "    </tr>\n",
       "  </tbody>\n",
       "</table>\n",
       "</div>"
      ],
      "text/plain": [
       "     Temperature (K)  Luminosity(L/Lo)  Radius(R/Ro)  Absolute magnitude(Mv)  \\\n",
       "122             3218           0.00054        0.1100                  20.020   \n",
       "18              3192           0.00362        0.1967                  13.530   \n",
       "100            33300      240000.00000       12.0000                  -6.500   \n",
       "72              3304           0.00850        0.1800                  13.200   \n",
       "232            32489      648430.00000     1948.5000                 -10.840   \n",
       "92              4077           0.08500        0.7950                   6.228   \n",
       "85              9675           0.00045        0.0109                  13.980   \n",
       "45              3600      320000.00000       29.0000                  -6.600   \n",
       "126             2935           0.00087        0.0932                  16.880   \n",
       "114             3610      132000.00000     1522.0000                 -10.860   \n",
       "\n",
       "     Star type    Star color Spectral Class  \n",
       "122          0           Red              M  \n",
       "18           1           Red              M  \n",
       "100          4          Blue              B  \n",
       "72           1           Red              M  \n",
       "232          5          Blue              O  \n",
       "92           3  Yellow-White              K  \n",
       "85           2    Blue-White              A  \n",
       "45           4           Red              M  \n",
       "126          0           Red              M  \n",
       "114          5           Red              M  "
      ]
     },
     "execution_count": 2,
     "metadata": {},
     "output_type": "execute_result"
    }
   ],
   "source": [
    "# Reading the data #\n",
    "\n",
    "stars_df = pd.read_csv('star_data.csv')\n",
    "#stars_df.head()       # returns the first 5 values in the data\n",
    "stars_df.sample(10)   # returns 10 random samples"
   ]
  },
  {
   "cell_type": "code",
   "execution_count": 3,
   "id": "4a5bd36b-0393-40cb-b5a4-453b6fc32a78",
   "metadata": {},
   "outputs": [
    {
     "name": "stdout",
     "output_type": "stream",
     "text": [
      "<class 'pandas.core.frame.DataFrame'>\n",
      "RangeIndex: 240 entries, 0 to 239\n",
      "Data columns (total 7 columns):\n",
      " #   Column                  Non-Null Count  Dtype  \n",
      "---  ------                  --------------  -----  \n",
      " 0   Temperature (K)         240 non-null    int64  \n",
      " 1   Luminosity(L/Lo)        240 non-null    float64\n",
      " 2   Radius(R/Ro)            240 non-null    float64\n",
      " 3   Absolute magnitude(Mv)  240 non-null    float64\n",
      " 4   Star type               240 non-null    int64  \n",
      " 5   Star color              240 non-null    object \n",
      " 6   Spectral Class          240 non-null    object \n",
      "dtypes: float64(3), int64(2), object(2)\n",
      "memory usage: 13.2+ KB\n"
     ]
    }
   ],
   "source": [
    "stars_df.info()        # returns information about your dataframe"
   ]
  },
  {
   "cell_type": "markdown",
   "id": "13a75d35-a732-46fa-a3f9-2e4b668dd8e0",
   "metadata": {
    "tags": []
   },
   "source": [
    "Observations:<br><br>\n",
    "   This dataset consist of 240 rows, 6 feature colums, and 1 target column:\n",
    "   * 1. Temperature        (K)\n",
    "   * 2. Luminosity         (L/Lo)\n",
    "   * 3. Relative Radius    (R/Ro)\n",
    "   * 4. Absolute Magnitude (Mv)\n",
    "   * 5. Star type          (Target)\n",
    "   * 6. Star color\n",
    "   * 7. Spectral Class\n",
    "        \n",
    "   Here,<br>\n",
    "   >Lo = $3.828 x10^{26}$ Watts (Avg Luminosity of Sun)<br>\n",
    "    Ro = $6.9551 x10^{26}$ m (Avg Radius of Sun)<br>\n",
    "     \n",
    "  There are two categories(colums) that will need some type of encoding:\n",
    "   * 1. Star Color\n",
    "   * 2. Spectral Class\n",
    "  \n",
    "  Star Types (Classifications):\n",
    "  * 0. Brown Dwarf\n",
    "  * 1. Red Dwarf\n",
    "  * 2. White Dwarf\n",
    "  * 3. Main Sequence\n",
    "  * 4. Supergiants\n",
    "  * 5. Hypergiants"
   ]
  },
  {
   "cell_type": "code",
   "execution_count": 23,
   "id": "0099254b-66ce-4d40-a516-0f89f1a0d82e",
   "metadata": {},
   "outputs": [],
   "source": [
    "# Creating a directory for visualizations #\n",
    "\n",
    "path_dir = 'star_graphs'\n",
    "os.makedirs(path_dir, exist_ok=True)             # Makes a directory if the dir does not exist. Note: will not replace folder is it already exist\n",
    "base_dir = f'/Data Analysis Star/{path_dir}/'   # Dynamic dir using f string formating"
   ]
  },
  {
   "cell_type": "code",
   "execution_count": 24,
   "id": "7324af76-a547-4ce7-beab-47ca20ffba1b",
   "metadata": {},
   "outputs": [
    {
     "data": {
      "image/png": "[encoded data removed]",
      "text/plain": [
       "<Figure size 432x288 with 1 Axes>"
      ]
     },
     "metadata": {},
     "output_type": "display_data"
    }
   ],
   "source": [
    "# Creating a bar graph from the star data #\n",
    "\n",
    "#stars_df['Star type']                                  # Gets the star type from our previously created dataframe\n",
    "#stars_df['Star type'].value_counts()                   # Gets the count of star types\n",
    "stars_df['Star type'].value_counts().plot(kind='bar')   # Plots the number of each star type in a bar graph\n",
    "plt.show()"
   ]
  },
  {
   "cell_type": "code",
   "execution_count": 25,
   "id": "b4718ac1-95b9-40b4-9291-2679acb0fb79",
   "metadata": {},
   "outputs": [
    {
     "data": {
      "image/png": "[encoded data removed]",
      "text/plain": [
       "<Figure size 1008x360 with 1 Axes>"
      ]
     },
     "metadata": {},
     "output_type": "display_data"
    }
   ],
   "source": [
    "# Adding customization to the graph #\n",
    "\n",
    "plt.figure(figsize = (14,5))                                                             # Customize the size of the graph\n",
    "plt.style.use('dark_background')                                                         # Changing the background to a dark color\n",
    "\n",
    "#Customizing the bar graph with diffrent colors, and their perspective values#\n",
    "bar_graph = stars_df['Star type'].value_counts().plot(\n",
    "            kind='bar', \n",
    "            color=['brown', 'darkred', 'white', 'yellow','orange','red'])\n",
    "\n",
    "#bar_graph.bar_label(bar_graph.containers[0])                                            # Adding bar count(labels)\n",
    "bar_graph.bar_label(bar_graph.containers[0], color='white', size='13')                   # Adding color to labels\n",
    "plt.title('Stellar Classification of Stars', color='cyan', weight='bold', size='15')     # Customized title: color, size and bold\n",
    "plt.yticks(color='skyblue', size='15')                                                   # Customized y-makers: color\n",
    "\n",
    "#Customized x-markers based on rotation, color, and name#\n",
    "plt.xticks(ticks=[0,1,2,3,4,5], \n",
    "           labels=['Brown Dwarf','Red Dwarf', 'White Dwarf', 'Main Sequence', 'Supergiants', 'Hypergiants'],\n",
    "           rotation='45', fontsize='14', color='lightgreen')\n",
    "\n",
    "plt.ylabel('Number of Stars', color='white', fontsize='15')                             # Customized y-label: Name, color and size\n",
    "plt.savefig('bar_chart.png')\n",
    "\n",
    "plt.show()"
   ]
  },
  {
   "cell_type": "code",
   "execution_count": null,
   "id": "e18efd51-77b2-479e-aefd-dccba9cab63f",
   "metadata": {},
   "outputs": [],
   "source": []
  },
  {
   "cell_type": "code",
   "execution_count": null,
   "id": "2c110dfb-6f40-49df-bc97-c89251fee444",
   "metadata": {},
   "outputs": [],
   "source": []
  }
 ],
 "metadata": {
  "kernelspec": {
   "display_name": "Python 3 (ipykernel)",
   "language": "python",
   "name": "python3"
  },
  "language_info": {
   "codemirror_mode": {
    "name": "ipython",
    "version": 3
   },
   "file_extension": ".py",
   "mimetype": "text/x-python",
   "name": "python",
   "nbconvert_exporter": "python",
   "pygments_lexer": "ipython3",
   "version": "3.9.12"
  }
 },
 "nbformat": 4,
 "nbformat_minor": 5
}
