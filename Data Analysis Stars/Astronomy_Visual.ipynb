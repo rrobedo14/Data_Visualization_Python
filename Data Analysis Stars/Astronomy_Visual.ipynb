{
 "cells": [
  {
   "cell_type": "code",
   "execution_count": 6,
   "id": "5f87a4ad-88a5-46c6-94f8-26622fa05fe4",
   "metadata": {
    "tags": []
   },
   "outputs": [],
   "source": [
    "# Library Imports #\n",
    "\n",
    "import os\n",
    "import pandas as pd\n",
    "import numpy as np\n",
    "import seaborn as sns\n",
    "import matplotlib.pyplot as plt"
   ]
  },
  {
   "cell_type": "code",
   "execution_count": 7,
   "id": "26012bb5-d511-4c6b-bc51-b744d6eae310",
   "metadata": {
    "collapsed": true,
    "jupyter": {
     "outputs_hidden": true
    },
    "tags": []
   },
   "outputs": [
    {
     "data": {
      "text/html": [
       "<div>\n",
       "<style scoped>\n",
       "    .dataframe tbody tr th:only-of-type {\n",
       "        vertical-align: middle;\n",
       "    }\n",
       "\n",
       "    .dataframe tbody tr th {\n",
       "        vertical-align: top;\n",
       "    }\n",
       "\n",
       "    .dataframe thead th {\n",
       "        text-align: right;\n",
       "    }\n",
       "</style>\n",
       "<table border=\"1\" class=\"dataframe\">\n",
       "  <thead>\n",
       "    <tr style=\"text-align: right;\">\n",
       "      <th></th>\n",
       "      <th>Temperature (K)</th>\n",
       "      <th>Luminosity(L/Lo)</th>\n",
       "      <th>Radius(R/Ro)</th>\n",
       "      <th>Absolute magnitude(Mv)</th>\n",
       "      <th>Star type</th>\n",
       "      <th>Star color</th>\n",
       "      <th>Spectral Class</th>\n",
       "    </tr>\n",
       "  </thead>\n",
       "  <tbody>\n",
       "    <tr>\n",
       "      <th>2</th>\n",
       "      <td>2600</td>\n",
       "      <td>0.00030</td>\n",
       "      <td>0.10200</td>\n",
       "      <td>18.70</td>\n",
       "      <td>0</td>\n",
       "      <td>Red</td>\n",
       "      <td>M</td>\n",
       "    </tr>\n",
       "    <tr>\n",
       "      <th>144</th>\n",
       "      <td>11900</td>\n",
       "      <td>0.00067</td>\n",
       "      <td>0.00898</td>\n",
       "      <td>11.38</td>\n",
       "      <td>2</td>\n",
       "      <td>Blue-White</td>\n",
       "      <td>B</td>\n",
       "    </tr>\n",
       "    <tr>\n",
       "      <th>68</th>\n",
       "      <td>2774</td>\n",
       "      <td>0.00036</td>\n",
       "      <td>0.11800</td>\n",
       "      <td>17.39</td>\n",
       "      <td>0</td>\n",
       "      <td>Red</td>\n",
       "      <td>M</td>\n",
       "    </tr>\n",
       "    <tr>\n",
       "      <th>210</th>\n",
       "      <td>22350</td>\n",
       "      <td>12450.00000</td>\n",
       "      <td>6.36000</td>\n",
       "      <td>-3.67</td>\n",
       "      <td>3</td>\n",
       "      <td>Blue-White</td>\n",
       "      <td>B</td>\n",
       "    </tr>\n",
       "    <tr>\n",
       "      <th>123</th>\n",
       "      <td>3146</td>\n",
       "      <td>0.00015</td>\n",
       "      <td>0.09320</td>\n",
       "      <td>16.92</td>\n",
       "      <td>0</td>\n",
       "      <td>Red</td>\n",
       "      <td>M</td>\n",
       "    </tr>\n",
       "    <tr>\n",
       "      <th>196</th>\n",
       "      <td>3142</td>\n",
       "      <td>0.00132</td>\n",
       "      <td>0.25800</td>\n",
       "      <td>14.12</td>\n",
       "      <td>1</td>\n",
       "      <td>Red</td>\n",
       "      <td>M</td>\n",
       "    </tr>\n",
       "    <tr>\n",
       "      <th>38</th>\n",
       "      <td>5936</td>\n",
       "      <td>1.35700</td>\n",
       "      <td>1.10600</td>\n",
       "      <td>4.46</td>\n",
       "      <td>3</td>\n",
       "      <td>Yellow-White</td>\n",
       "      <td>F</td>\n",
       "    </tr>\n",
       "    <tr>\n",
       "      <th>57</th>\n",
       "      <td>3450</td>\n",
       "      <td>174000.00000</td>\n",
       "      <td>1284.00000</td>\n",
       "      <td>-11.28</td>\n",
       "      <td>5</td>\n",
       "      <td>Red</td>\n",
       "      <td>M</td>\n",
       "    </tr>\n",
       "    <tr>\n",
       "      <th>118</th>\n",
       "      <td>6850</td>\n",
       "      <td>229000.00000</td>\n",
       "      <td>1467.00000</td>\n",
       "      <td>-10.07</td>\n",
       "      <td>5</td>\n",
       "      <td>Red</td>\n",
       "      <td>G</td>\n",
       "    </tr>\n",
       "    <tr>\n",
       "      <th>175</th>\n",
       "      <td>3614</td>\n",
       "      <td>145000.00000</td>\n",
       "      <td>1553.00000</td>\n",
       "      <td>-7.71</td>\n",
       "      <td>5</td>\n",
       "      <td>Red</td>\n",
       "      <td>M</td>\n",
       "    </tr>\n",
       "  </tbody>\n",
       "</table>\n",
       "</div>"
      ],
      "text/plain": [
       "     Temperature (K)  Luminosity(L/Lo)  Radius(R/Ro)  Absolute magnitude(Mv)  \\\n",
       "2               2600           0.00030       0.10200                   18.70   \n",
       "144            11900           0.00067       0.00898                   11.38   \n",
       "68              2774           0.00036       0.11800                   17.39   \n",
       "210            22350       12450.00000       6.36000                   -3.67   \n",
       "123             3146           0.00015       0.09320                   16.92   \n",
       "196             3142           0.00132       0.25800                   14.12   \n",
       "38              5936           1.35700       1.10600                    4.46   \n",
       "57              3450      174000.00000    1284.00000                  -11.28   \n",
       "118             6850      229000.00000    1467.00000                  -10.07   \n",
       "175             3614      145000.00000    1553.00000                   -7.71   \n",
       "\n",
       "     Star type    Star color Spectral Class  \n",
       "2            0           Red              M  \n",
       "144          2    Blue-White              B  \n",
       "68           0           Red              M  \n",
       "210          3    Blue-White              B  \n",
       "123          0           Red              M  \n",
       "196          1           Red              M  \n",
       "38           3  Yellow-White              F  \n",
       "57           5           Red              M  \n",
       "118          5           Red              G  \n",
       "175          5           Red              M  "
      ]
     },
     "execution_count": 7,
     "metadata": {},
     "output_type": "execute_result"
    }
   ],
   "source": [
    "# Reading the data #\n",
    "\n",
    "stars_df = pd.read_csv('star_data.csv')\n",
    "#stars_df.head()       # returns the first 5 values in the data\n",
    "stars_df.sample(10)   # returns 10 random samples"
   ]
  },
  {
   "cell_type": "code",
   "execution_count": 8,
   "id": "4a5bd36b-0393-40cb-b5a4-453b6fc32a78",
   "metadata": {
    "tags": []
   },
   "outputs": [
    {
     "name": "stdout",
     "output_type": "stream",
     "text": [
      "<class 'pandas.core.frame.DataFrame'>\n",
      "RangeIndex: 240 entries, 0 to 239\n",
      "Data columns (total 7 columns):\n",
      " #   Column                  Non-Null Count  Dtype  \n",
      "---  ------                  --------------  -----  \n",
      " 0   Temperature (K)         240 non-null    int64  \n",
      " 1   Luminosity(L/Lo)        240 non-null    float64\n",
      " 2   Radius(R/Ro)            240 non-null    float64\n",
      " 3   Absolute magnitude(Mv)  240 non-null    float64\n",
      " 4   Star type               240 non-null    int64  \n",
      " 5   Star color              240 non-null    object \n",
      " 6   Spectral Class          240 non-null    object \n",
      "dtypes: float64(3), int64(2), object(2)\n",
      "memory usage: 13.2+ KB\n"
     ]
    }
   ],
   "source": [
    "stars_df.info()        # returns information about your dataframe"
   ]
  },
  {
   "cell_type": "markdown",
   "id": "13a75d35-a732-46fa-a3f9-2e4b668dd8e0",
   "metadata": {
    "tags": []
   },
   "source": [
    "Observations:<br><br>\n",
    "   This dataset consist of 240 rows, 6 feature colums, and 1 target column:\n",
    "   * 1. Temperature        (K)\n",
    "   * 2. Luminosity         (L/Lo)\n",
    "   * 3. Relative Radius    (R/Ro)\n",
    "   * 4. Absolute Magnitude (Mv)\n",
    "   * 5. Star type          (Target)\n",
    "   * 6. Star color\n",
    "   * 7. Spectral Class\n",
    "        \n",
    "   Here,<br>\n",
    "   >Lo = $3.828 x10^{26}$ Watts (Avg Luminosity of Sun)<br>\n",
    "    Ro = $6.9551 x10^{26}$ m (Avg Radius of Sun)<br>\n",
    "     \n",
    "  There are two categories(colums) that will need some type of encoding:\n",
    "   * 1. Star Color\n",
    "   * 2. Spectral Class\n",
    "  \n",
    "  Star Types (Classifications):\n",
    "  * 0. Brown Dwarf\n",
    "  * 1. Red Dwarf\n",
    "  * 2. White Dwarf\n",
    "  * 3. Main Sequence\n",
    "  * 4. Supergiants\n",
    "  * 5. Hypergiants"
   ]
  },
  {
   "cell_type": "code",
   "execution_count": 24,
   "id": "0099254b-66ce-4d40-a516-0f89f1a0d82e",
   "metadata": {},
   "outputs": [],
   "source": [
    "# Creating a directory for visualizations #\n",
    "\n",
    "path_dir = 'stellar_graphs'\n",
    "os.makedirs(path_dir, exist_ok=True)            # Makes a directory if the dir does not exist. Note: will not replace folder is it already exist\n",
    "base_dir = f'{path_dir}/'                       # Dynamic dir using f string formating setting the base directory"
   ]
  },
  {
   "cell_type": "markdown",
   "id": "aa453680-b7dd-4801-b8f8-5c2624495919",
   "metadata": {},
   "source": [
    "### Creating a bar graph using mathplotlib Library"
   ]
  },
  {
   "cell_type": "code",
   "execution_count": 38,
   "id": "7324af76-a547-4ce7-beab-47ca20ffba1b",
   "metadata": {
    "tags": []
   },
   "outputs": [
    {
     "data": {
      "image/png": "[encoded data removed]",
      "text/plain": [
       "<Figure size 432x288 with 1 Axes>"
      ]
     },
     "metadata": {},
     "output_type": "display_data"
    }
   ],
   "source": [
    "# Creating a bar graph from the star data #\n",
    "\n",
    "#stars_df['Star type']                                  # Gets the star type from our previously created dataframe\n",
    "#stars_df['Star type'].value_counts()                   # Gets the count of star types\n",
    "stars_df['Star type'].value_counts().plot(kind='bar')   # Plots the number of each star type in a bar graph\n",
    "plt.show()"
   ]
  },
  {
   "cell_type": "code",
   "execution_count": 37,
   "id": "b4718ac1-95b9-40b4-9291-2679acb0fb79",
   "metadata": {},
   "outputs": [
    {
     "data": {
      "image/png": "[encoded data removed]",
      "text/plain": [
       "<Figure size 1008x432 with 1 Axes>"
      ]
     },
     "metadata": {},
     "output_type": "display_data"
    }
   ],
   "source": [
    "\n",
    "# Adding customization to the graph #\n",
    "\n",
    "plt.figure(figsize =(14,6))                                                           # Customize the size of the graph\n",
    "plt.style.use('dark_background')                                                      # Changing the background to a dark color\n",
    "\n",
    "#Customizing the bar graph with diffrent colors, and their perspective values#\n",
    "bar_graph = stars_df['Star type'].value_counts().plot(\n",
    "            kind='bar', \n",
    "            color=['brown', 'darkred', 'white', 'yellow','orange','red'])\n",
    "\n",
    "#bar_graph.bar_label(bar_graph.containers[0])                                         # Adding bar count(labels)\n",
    "bar_graph.bar_label(bar_graph.containers[0], color='white', size='9')                 # Adding color to labels\n",
    "plt.title('Stellar Classification of Stars', color='cyan', weight='bold', size='10')  # Customized title: color, size and bold\n",
    "plt.yticks(color='skyblue', size='10')                                                # Customized y-makers: color\n",
    "\n",
    "#Customized x-markers based on rotation, color, and name#\n",
    "plt.xticks(ticks=[0,1,2,3,4,5], \n",
    "           labels=['Brown Dwarf','Red Dwarf', 'White Dwarf', 'Main Sequence', 'Supergiants', 'Hypergiants'],\n",
    "           rotation='45', fontsize='11', color='lightgreen')\n",
    "\n",
    "plt.ylabel('Number of Stars', color='white', fontsize='11')                           # Customized y-label: Name, color and size\n",
    "plt.tight_layout()                                                                    # Adjusts the axes of the subplots, so they are not cutoff\n",
    "plt.savefig(base_dir+'bar_graph_star_plots.png')\n",
    "\n",
    "plt.show()"
   ]
  },
  {
   "cell_type": "code",
   "execution_count": null,
   "id": "b7fdfcd8-133c-427d-88c8-3d236be7ad44",
   "metadata": {},
   "outputs": [],
   "source": []
  }
 ],
 "metadata": {
  "kernelspec": {
   "display_name": "Python 3 (ipykernel)",
   "language": "python",
   "name": "python3"
  },
  "language_info": {
   "codemirror_mode": {
    "name": "ipython",
    "version": 3
   },
   "file_extension": ".py",
   "mimetype": "text/x-python",
   "name": "python",
   "nbconvert_exporter": "python",
   "pygments_lexer": "ipython3",
   "version": "3.9.12"
  }
 },
 "nbformat": 4,
 "nbformat_minor": 5
}
